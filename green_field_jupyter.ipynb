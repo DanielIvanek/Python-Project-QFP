{
 "cells": [
  {
   "metadata": {},
   "cell_type": "markdown",
   "source": "# Portfolio Optimization",
   "id": "4be7ac4858c97592"
  },
  {
   "metadata": {},
   "cell_type": "markdown",
   "source": "#### **Import Packages**",
   "id": "bb889502de722f31"
  },
  {
   "metadata": {
    "ExecuteTime": {
     "end_time": "2025-01-05T18:29:33.469763Z",
     "start_time": "2025-01-05T18:29:33.463730Z"
    }
   },
   "cell_type": "code",
   "source": [
    "import yfinance as yf\n",
    "import pandas as pd\n",
    "from datetime import datetime, timedelta\n",
    "import numpy as np\n",
    "from scipy.optimize import minimize\n",
    "import seaborn as sns\n",
    "import matplotlib.pyplot as plt\n",
    "from fredapi import Fred"
   ],
   "id": "bcadb10146388a9c",
   "outputs": [],
   "execution_count": 19
  },
  {
   "metadata": {},
   "cell_type": "markdown",
   "source": "## Ticker definition and Time Frame",
   "id": "38fd393f8412a71"
  },
  {
   "metadata": {},
   "cell_type": "markdown",
   "source": "#### **Ticker Selection**",
   "id": "5eb7f7c97273446d"
  },
  {
   "metadata": {
    "ExecuteTime": {
     "end_time": "2025-01-05T18:29:36.263318Z",
     "start_time": "2025-01-05T18:29:36.258816Z"
    }
   },
   "cell_type": "code",
   "source": "tickers = ['CVS', 'BABA', 'EVO.ST', 'TUI1.DE']",
   "id": "a7777f35e9c5311b",
   "outputs": [],
   "execution_count": 20
  },
  {
   "metadata": {},
   "cell_type": "markdown",
   "source": "#### **Set End Date to today and Start Date from 5 years ago**",
   "id": "6ded85539ad812bb"
  },
  {
   "metadata": {
    "ExecuteTime": {
     "end_time": "2025-01-05T18:29:38.073014Z",
     "start_time": "2025-01-05T18:29:38.067213Z"
    }
   },
   "cell_type": "code",
   "source": [
    "end_date = datetime.today()\n",
    "start_date = end_date - timedelta(days = 5*365)\n",
    "print(start_date)"
   ],
   "id": "b7e1737a3888c2c1",
   "outputs": [
    {
     "name": "stdout",
     "output_type": "stream",
     "text": [
      "2020-01-07 19:29:38.070732\n"
     ]
    }
   ],
   "execution_count": 21
  },
  {
   "metadata": {},
   "cell_type": "markdown",
   "source": "## Download Adjusted Close Prices",
   "id": "af677762b58120e4"
  },
  {
   "metadata": {},
   "cell_type": "markdown",
   "source": "#### **Create empty DataFrame**",
   "id": "d7bdee669a05c11"
  },
  {
   "metadata": {
    "ExecuteTime": {
     "end_time": "2025-01-05T18:29:40.547040Z",
     "start_time": "2025-01-05T18:29:40.542623Z"
    }
   },
   "cell_type": "code",
   "source": "adj_close_df = pd.DataFrame()",
   "id": "564c5e1275afc898",
   "outputs": [],
   "execution_count": 22
  },
  {
   "metadata": {},
   "cell_type": "markdown",
   "source": "#### **Download Close Prices for each ticker**",
   "id": "fb5f8de75c94978d"
  },
  {
   "cell_type": "code",
   "id": "initial_id",
   "metadata": {
    "collapsed": true,
    "ExecuteTime": {
     "end_time": "2025-01-05T18:29:42.990782Z",
     "start_time": "2025-01-05T18:29:42.100455Z"
    }
   },
   "source": [
    "for ticker in tickers:\n",
    "    data = yf.download(ticker, start = start_date,end = end_date)\n",
    "    adj_close_df[ticker] = data['Adj Close']"
   ],
   "outputs": [
    {
     "name": "stderr",
     "output_type": "stream",
     "text": [
      "[*********************100%***********************]  1 of 1 completed\n",
      "[*********************100%***********************]  1 of 1 completed\n",
      "[*********************100%***********************]  1 of 1 completed\n",
      "[*********************100%***********************]  1 of 1 completed\n"
     ]
    }
   ],
   "execution_count": 23
  },
  {
   "metadata": {
    "ExecuteTime": {
     "end_time": "2025-01-05T18:29:44.740371Z",
     "start_time": "2025-01-05T18:29:44.732411Z"
    }
   },
   "cell_type": "code",
   "source": "print(adj_close_df)",
   "id": "bb46f4ad6c0c819a",
   "outputs": [
    {
     "name": "stdout",
     "output_type": "stream",
     "text": [
      "                  CVS        BABA      EVO.ST    TUI1.DE\n",
      "Date                                                    \n",
      "2020-01-08  62.451134  210.532761  290.699554  28.418802\n",
      "2020-01-09  62.623032  214.183289  290.699554  28.561611\n",
      "2020-01-10  61.978409  216.163071  309.085693  28.405819\n",
      "2020-01-13  62.537090  222.585281  304.116455  27.886518\n",
      "2020-01-14  63.456760  218.731964  304.613373  27.873535\n",
      "...               ...         ...         ...        ...\n",
      "2024-12-27  44.490002   85.059998  853.000000   8.362000\n",
      "2024-12-30  43.939999   84.129997  852.799988   8.362000\n",
      "2024-12-31  44.889999   84.790001         NaN        NaN\n",
      "2025-01-02  44.220001   84.949997  868.799988   8.368000\n",
      "2025-01-03  45.770000   85.540001  875.400024   8.106000\n",
      "\n",
      "[1256 rows x 4 columns]\n"
     ]
    }
   ],
   "execution_count": 24
  },
  {
   "metadata": {},
   "cell_type": "markdown",
   "source": "### Calculate lognormal Returns",
   "id": "62e56aeecaf6283e"
  },
  {
   "metadata": {},
   "cell_type": "markdown",
   "source": "#### **Calculate the lognormal returns for each ticker and Drop missing**",
   "id": "515866475fba811"
  },
  {
   "metadata": {
    "ExecuteTime": {
     "end_time": "2025-01-05T18:29:47.949241Z",
     "start_time": "2025-01-05T18:29:47.942181Z"
    }
   },
   "cell_type": "code",
   "source": [
    "log_returns = np.log(adj_close_df / adj_close_df.shift(1))\n",
    "log_returns = log_returns.dropna()"
   ],
   "id": "a1471cc85143567c",
   "outputs": [],
   "execution_count": 25
  },
  {
   "metadata": {},
   "cell_type": "markdown",
   "source": "## Covariance Matrix",
   "id": "dab227246a06728f"
  },
  {
   "metadata": {},
   "cell_type": "markdown",
   "source": "#### **Calculate covariance matrix using annualized log returns**",
   "id": "6fdbd116836b6c12"
  },
  {
   "metadata": {
    "ExecuteTime": {
     "end_time": "2025-01-05T18:29:50.351109Z",
     "start_time": "2025-01-05T18:29:50.342516Z"
    }
   },
   "cell_type": "code",
   "source": [
    "cov_matrix = log_returns.cov()*252\n",
    "print(cov_matrix)"
   ],
   "id": "35198d9db82874a",
   "outputs": [
    {
     "name": "stdout",
     "output_type": "stream",
     "text": [
      "              CVS      BABA    EVO.ST   TUI1.DE\n",
      "CVS      0.089269  0.015011  0.013684  0.036020\n",
      "BABA     0.015011  0.232038  0.042110  0.054826\n",
      "EVO.ST   0.013684  0.042110  0.209168  0.057507\n",
      "TUI1.DE  0.036020  0.054826  0.057507  0.401094\n"
     ]
    }
   ],
   "execution_count": 26
  },
  {
   "metadata": {},
   "cell_type": "markdown",
   "source": "## Vizualizace Kovariační Matice",
   "id": "65792c896ba0ce4"
  },
  {
   "metadata": {
    "ExecuteTime": {
     "end_time": "2025-01-05T18:29:54.416619Z",
     "start_time": "2025-01-05T18:29:54.206553Z"
    }
   },
   "cell_type": "code",
   "source": [
    "matrix = cov_matrix  # Nebo použijte correlation_matrix pro korelační matici\n",
    "\n",
    "# Vytvoření heatmapy\n",
    "plt.figure(figsize=(8, 6))\n",
    "sns.heatmap(matrix, annot=True, fmt=\".2f\", cmap=\"coolwarm\", cbar=True)\n",
    "plt.title(\"Covariance Matrix (or Correlation Matrix)\")\n",
    "plt.xlabel(\"Ticker\")\n",
    "plt.ylabel(\"Ticker\")\n",
    "plt.show()"
   ],
   "id": "8511c4cd241ceaa4",
   "outputs": [
    {
     "data": {
      "text/plain": [
       "<Figure size 800x600 with 2 Axes>"
      ],
      "image/png": "[encoded data removed]"
     },
     "metadata": {},
     "output_type": "display_data"
    }
   ],
   "execution_count": 27
  },
  {
   "metadata": {},
   "cell_type": "markdown",
   "source": "## Define Portfolio Performance Metrics",
   "id": "b6ae45ad88152b91"
  },
  {
   "metadata": {
    "ExecuteTime": {
     "end_time": "2025-01-05T18:30:07.774893Z",
     "start_time": "2025-01-05T18:30:07.769892Z"
    }
   },
   "cell_type": "code",
   "source": [
    "def standard_deviation(weights, cov_matrix):\n",
    "    variance = weights.T @ cov_matrix @ weights\n",
    "    return np.sqrt(variance)\n",
    "\n",
    "def expected_return(weights, log_returns):\n",
    "    return np.sum(log_returns.mean()*weights)*252\n",
    "\n",
    "def sharpe_ratio(weights, log_returns, cov_matrix, risk_free_rate):\n",
    "    return (expected_return(weights, log_returns) - risk_free_rate) / standard_deviation(weights, cov_matrix)"
   ],
   "id": "1e593e1547888cb7",
   "outputs": [],
   "execution_count": 28
  },
  {
   "metadata": {},
   "cell_type": "markdown",
   "source": "## Portfolio Optimization",
   "id": "4220c1790a8a0ed1"
  },
  {
   "metadata": {},
   "cell_type": "markdown",
   "source": "set risk free rate",
   "id": "faa1dda773ee2727"
  },
  {
   "metadata": {
    "ExecuteTime": {
     "end_time": "2025-01-05T18:30:11.309643Z",
     "start_time": "2025-01-05T18:30:11.305111Z"
    }
   },
   "cell_type": "code",
   "source": "risk_free_rate = 0.02\n",
   "id": "bea029dd6a8db5ad",
   "outputs": [],
   "execution_count": 29
  },
  {
   "metadata": {},
   "cell_type": "markdown",
   "source": "#### Set Risk free rate based on a treasury API",
   "id": "66c3914d72ae8b54"
  },
  {
   "metadata": {
    "ExecuteTime": {
     "end_time": "2025-01-05T18:30:14.177476Z",
     "start_time": "2025-01-05T18:30:13.496164Z"
    }
   },
   "cell_type": "code",
   "source": [
    "fred = Fred(api_key='73bf9caaa3bc8dcde51bd1d08eaf83d9')\n",
    "ten_year_treasury_rate = fred.get_series_latest_release('GS10') / 100\n",
    "risk_free_rate = ten_year_treasury_rate.iloc[-1]\n",
    "print(risk_free_rate)"
   ],
   "id": "36b74ca9a0f8fdec",
   "outputs": [
    {
     "name": "stdout",
     "output_type": "stream",
     "text": [
      "0.043899999999999995\n"
     ]
    }
   ],
   "execution_count": 30
  },
  {
   "metadata": {},
   "cell_type": "markdown",
   "source": "#### **Define the function to minimize negative Sharpe Ratio**",
   "id": "ba404d6ed4e4273f"
  },
  {
   "metadata": {
    "ExecuteTime": {
     "end_time": "2025-01-05T18:30:16.603253Z",
     "start_time": "2025-01-05T18:30:16.598332Z"
    }
   },
   "cell_type": "code",
   "source": [
    "def neg_sharpe_ratio(weights, log_returns, cov_matrix, risk_free_rate):\n",
    "    return -sharpe_ratio(weights, log_returns, cov_matrix, risk_free_rate)"
   ],
   "id": "ef392bf351787eda",
   "outputs": [],
   "execution_count": 31
  },
  {
   "metadata": {},
   "cell_type": "markdown",
   "source": "#### **Set the constraints and bounds**",
   "id": "6f81b02481ce92ee"
  },
  {
   "metadata": {
    "ExecuteTime": {
     "end_time": "2025-01-05T18:30:19.135321Z",
     "start_time": "2025-01-05T18:30:19.130245Z"
    }
   },
   "cell_type": "code",
   "source": [
    "constraints = {'type': 'eq', 'fun': lambda weights: np.sum(weights) - 1}\n",
    "bounds = [(0, 0.4) for _ in range(len(tickers))]"
   ],
   "id": "9b87a0f7ba22d2a5",
   "outputs": [],
   "execution_count": 32
  },
  {
   "metadata": {},
   "cell_type": "markdown",
   "source": "#### **set the initial weights**",
   "id": "46568dbae4d630f3"
  },
  {
   "metadata": {
    "ExecuteTime": {
     "end_time": "2025-01-05T18:30:23.254604Z",
     "start_time": "2025-01-05T18:30:23.250093Z"
    }
   },
   "cell_type": "code",
   "source": "initial_weights = np.array([1/len(tickers)]*len(tickers))",
   "id": "af98173baedee3b0",
   "outputs": [],
   "execution_count": 33
  },
  {
   "metadata": {},
   "cell_type": "markdown",
   "source": "## Optimize results to Maximize Sharpe Ratio",
   "id": "d6a85ff75d82ed79"
  },
  {
   "metadata": {
    "ExecuteTime": {
     "end_time": "2025-01-05T18:30:25.070419Z",
     "start_time": "2025-01-05T18:30:25.041281Z"
    }
   },
   "cell_type": "code",
   "source": "optimized_results = minimize(neg_sharpe_ratio, initial_weights, args=(log_returns, cov_matrix, risk_free_rate), method='SLSQP', constraints=constraints, bounds=bounds)",
   "id": "5b931b8ae4bd8f20",
   "outputs": [],
   "execution_count": 34
  },
  {
   "metadata": {},
   "cell_type": "markdown",
   "source": "## Get Optimal Weights",
   "id": "4c151d87931c0985"
  },
  {
   "metadata": {
    "ExecuteTime": {
     "end_time": "2025-01-05T18:30:28.864712Z",
     "start_time": "2025-01-05T18:30:28.855677Z"
    }
   },
   "cell_type": "code",
   "source": [
    "optimal_weights = optimized_results.x\n",
    "print(\"Optimal Weights:\")\n",
    "for ticker, weight in zip(tickers, optimal_weights):\n",
    "    print(f\"{ticker}: {weight:.4f}\")\n",
    "\n",
    "optimal_portfolio_return = expected_return(optimal_weights, log_returns)\n",
    "optimal_portfolio_volatility = standard_deviation(optimal_weights, cov_matrix)\n",
    "optimal_sharpe_ratio = sharpe_ratio(optimal_weights, log_returns, cov_matrix, risk_free_rate)\n",
    "\n",
    "print(f\"Expected Annual Return: {optimal_portfolio_return:.4f}\")\n",
    "print(f\"Expected Volatility: {optimal_portfolio_volatility:.4f}\")\n",
    "print(f\"Sharpe Ratio: {optimal_sharpe_ratio:.4f}\")"
   ],
   "id": "d526c3b9e8368861",
   "outputs": [
    {
     "name": "stdout",
     "output_type": "stream",
     "text": [
      "Optimal Weights:\n",
      "CVS: 0.4000\n",
      "BABA: 0.2000\n",
      "EVO.ST: 0.4000\n",
      "TUI1.DE: 0.0000\n",
      "Expected Annual Return: 0.0201\n",
      "Expected Volatility: 0.2656\n",
      "Sharpe Ratio: -0.0895\n"
     ]
    }
   ],
   "execution_count": 35
  },
  {
   "metadata": {},
   "cell_type": "markdown",
   "source": "## Display Plot of the portfolio",
   "id": "d7f7cbb6cbb59657"
  },
  {
   "metadata": {
    "ExecuteTime": {
     "end_time": "2025-01-05T18:30:46.161517Z",
     "start_time": "2025-01-05T18:30:46.017537Z"
    }
   },
   "cell_type": "code",
   "source": [
    "plt.figure(figsize=(10, 6))\n",
    "plt.bar(tickers, optimal_weights)\n",
    "\n",
    "plt.xlabel('Assets')\n",
    "plt.ylabel('Optimal Weights')\n",
    "plt.title('Optimal Portfolio Weights')\n",
    "\n",
    "plt.show()"
   ],
   "id": "8714cad965c8d5f0",
   "outputs": [
    {
     "data": {
      "text/plain": [
       "<Figure size 1000x600 with 1 Axes>"
      ],
      "image/png": "[encoded data removed]"
     },
     "metadata": {},
     "output_type": "display_data"
    }
   ],
   "execution_count": 36
  }
 ],
 "metadata": {
  "kernelspec": {
   "display_name": "Python 3",
   "language": "python",
   "name": "python3"
  },
  "language_info": {
   "codemirror_mode": {
    "name": "ipython",
    "version": 2
   },
   "file_extension": ".py",
   "mimetype": "text/x-python",
   "name": "python",
   "nbconvert_exporter": "python",
   "pygments_lexer": "ipython2",
   "version": "2.7.6"
  }
 },
 "nbformat": 4,
 "nbformat_minor": 5
}
